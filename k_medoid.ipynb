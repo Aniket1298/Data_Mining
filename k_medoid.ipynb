{
 "cells": [
  {
   "cell_type": "code",
   "execution_count": null,
   "metadata": {},
   "outputs": [],
   "source": [
    "import pandas as pd\n",
    "import numpy as np\n",
    "import random\n",
    "from sklearn import datasets"
   ]
  },
  {
   "cell_type": "code",
   "execution_count": 2,
   "metadata": {},
   "outputs": [],
   "source": [
    "df=pd.DataFrame()"
   ]
  },
  {
   "cell_type": "code",
   "execution_count": 3,
   "metadata": {},
   "outputs": [],
   "source": [
    "X=[100,90,15,20,85,18]\n",
    "Y=[5,7,96,105,12,110]\n",
    "Z=[-1]*6"
   ]
  },
  {
   "cell_type": "code",
   "execution_count": 4,
   "metadata": {},
   "outputs": [],
   "source": [
    "df['X']=X\n",
    "df['Y']=Y\n",
    "df['Z']=Z"
   ]
  },
  {
   "cell_type": "code",
   "execution_count": 5,
   "metadata": {},
   "outputs": [],
   "source": [
    "data=[]\n",
    "for i in range(len(X)):\n",
    "    data.append([X[i],Y[i],-1])"
   ]
  },
  {
   "cell_type": "markdown",
   "metadata": {},
   "source": [
    "# K-Medoid"
   ]
  },
  {
   "cell_type": "code",
   "execution_count": 18,
   "metadata": {},
   "outputs": [],
   "source": [
    "def k_medoid(k,data):\n",
    "    kmed=random.sample(data,k)\n",
    "    #print(kmed)\n",
    "    for i in range(len(data)):\n",
    "        for j in range(len(kmed)):\n",
    "            if data[i]==kmed[j]:\n",
    "                data[i][-1]=i\n",
    "                kmed[j][-1]=i\n",
    "    cost=0\n",
    "    for i in range(len(data)):\n",
    "        dis=99999999999999999999999\n",
    "        for j in range(len(kmed)):\n",
    "            ndis=0\n",
    "            for x in range(len(kmed[0])-1):\n",
    "                ndis+=abs(data[i][x]-kmed[j][x])\n",
    "            if ndis<dis:\n",
    "                data[i][-1]=kmed[j][-1]\n",
    "                dis=ndis\n",
    "        cost+=data[i][-1]\n",
    "    print (\"Cost on k=\",k,\"is\",cost)"
   ]
  },
  {
   "cell_type": "markdown",
   "metadata": {},
   "source": [
    "# Testing on given data"
   ]
  },
  {
   "cell_type": "code",
   "execution_count": 19,
   "metadata": {},
   "outputs": [
    {
     "name": "stdout",
     "output_type": "stream",
     "text": [
      "Cost on k= 1 is 5100\n",
      "Cost on k= 2 is 13953\n",
      "Cost on k= 3 is 15436\n"
     ]
    }
   ],
   "source": [
    "for i in range(1,4):\n",
    "    k_medoid(i,df)"
   ]
  },
  {
   "cell_type": "markdown",
   "metadata": {},
   "source": [
    "# K-Medoid on Iris Dataset"
   ]
  },
  {
   "cell_type": "code",
   "execution_count": 23,
   "metadata": {},
   "outputs": [],
   "source": [
    "df = list(datasets.load_iris().data)\n"
   ]
  },
  {
   "cell_type": "code",
   "execution_count": 24,
   "metadata": {},
   "outputs": [],
   "source": [
    "#PreProcessing\n",
    "for i in range(len(df)):\n",
    "    df[i]=list(df[i])\n",
    "    df[i].append(-1)"
   ]
  },
  {
   "cell_type": "code",
   "execution_count": 25,
   "metadata": {},
   "outputs": [
    {
     "name": "stdout",
     "output_type": "stream",
     "text": [
      "Cost on k= 1 is 9150\n",
      "Cost on k= 2 is 12406\n",
      "Cost on k= 3 is 6031\n",
      "Cost on k= 4 is 11935\n"
     ]
    }
   ],
   "source": [
    "for i in range(1,5):\n",
    "    k_medoid(i,df)"
   ]
  },
  {
   "cell_type": "code",
   "execution_count": null,
   "metadata": {},
   "outputs": [],
   "source": []
  },
  {
   "cell_type": "code",
   "execution_count": null,
   "metadata": {},
   "outputs": [],
   "source": []
  }
 ],
 "metadata": {
  "kernelspec": {
   "display_name": "Python 3",
   "language": "python",
   "name": "python3"
  },
  "language_info": {
   "codemirror_mode": {
    "name": "ipython",
    "version": 3
   },
   "file_extension": ".py",
   "mimetype": "text/x-python",
   "name": "python",
   "nbconvert_exporter": "python",
   "pygments_lexer": "ipython3",
   "version": "3.5.2"
  }
 },
 "nbformat": 4,
 "nbformat_minor": 1
}
