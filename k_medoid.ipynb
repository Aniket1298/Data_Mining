{
 "cells": [
  {
   "cell_type": "code",
   "execution_count": 246,
   "metadata": {},
   "outputs": [],
   "source": [
    "import pandas as pd\n",
    "import numpy as np\n",
    "import random"
   ]
  },
  {
   "cell_type": "code",
   "execution_count": 247,
   "metadata": {},
   "outputs": [],
   "source": [
    "df=pd.DataFrame()"
   ]
  },
  {
   "cell_type": "code",
   "execution_count": 248,
   "metadata": {},
   "outputs": [],
   "source": [
    "X=[100,90,15,20,85,18]\n",
    "Y=[5,7,96,105,12,110]\n",
    "Z=[-1]*6"
   ]
  },
  {
   "cell_type": "code",
   "execution_count": 249,
   "metadata": {},
   "outputs": [],
   "source": [
    "df['X']=X\n",
    "df['Y']=Y\n",
    "df['Z']=Z"
   ]
  },
  {
   "cell_type": "code",
   "execution_count": 250,
   "metadata": {},
   "outputs": [],
   "source": [
    "data=[]\n",
    "for i in range(len(X)):\n",
    "    data.append([X[i],Y[i],-1])"
   ]
  },
  {
   "cell_type": "code",
   "execution_count": 251,
   "metadata": {},
   "outputs": [],
   "source": [
    "def k_medoid(k,data):\n",
    "    kmed=random.sample(data,k)\n",
    "    #print(kmed)\n",
    "    for i in range(len(data)):\n",
    "        for j in range(len(kmed)):\n",
    "            if data[i]==kmed[j]:\n",
    "                data[i][-1]=i\n",
    "                kmed[j][-1]=i\n",
    "    cost=0\n",
    "    for i in range(len(data)):\n",
    "        dis=99999999999999999999999\n",
    "        for j in range(len(kmed)):\n",
    "            ndis=0\n",
    "            for x in range(len(kmed[0])-1):\n",
    "                ndis+=abs(data[i][x]-kmed[j][x])\n",
    "            #print (\"SDS\",ndis)\n",
    "            if ndis<dis:\n",
    "                data[i][-1]=kmed[j][-1]\n",
    "                dis=ndis\n",
    "        cost+=data[i][-1]\n",
    "    print (\"Cost:\",cost)"
   ]
  },
  {
   "cell_type": "code",
   "execution_count": 252,
   "metadata": {},
   "outputs": [],
   "source": [
    "from sklearn import datasets"
   ]
  },
  {
   "cell_type": "code",
   "execution_count": 253,
   "metadata": {},
   "outputs": [],
   "source": [
    "df = list(datasets.load_iris().data)\n"
   ]
  },
  {
   "cell_type": "code",
   "execution_count": 254,
   "metadata": {},
   "outputs": [],
   "source": [
    "for i in range(len(df)):\n",
    "    df[i]=list(df[i])\n",
    "    df[i].append(-1)"
   ]
  },
  {
   "cell_type": "code",
   "execution_count": 255,
   "metadata": {},
   "outputs": [
    {
     "name": "stdout",
     "output_type": "stream",
     "text": [
      "Cost: 12150\n",
      "Cost: 17468\n",
      "Cost: 3759\n",
      "Cost: 14016\n"
     ]
    }
   ],
   "source": [
    "for i in range(1,5):\n",
    "    k_medoid(i,df)"
   ]
  },
  {
   "cell_type": "code",
   "execution_count": null,
   "metadata": {},
   "outputs": [],
   "source": []
  },
  {
   "cell_type": "code",
   "execution_count": null,
   "metadata": {},
   "outputs": [],
   "source": []
  }
 ],
 "metadata": {
  "kernelspec": {
   "display_name": "Python 3",
   "language": "python",
   "name": "python3"
  },
  "language_info": {
   "codemirror_mode": {
    "name": "ipython",
    "version": 3
   },
   "file_extension": ".py",
   "mimetype": "text/x-python",
   "name": "python",
   "nbconvert_exporter": "python",
   "pygments_lexer": "ipython3",
   "version": "3.5.2"
  }
 },
 "nbformat": 4,
 "nbformat_minor": 1
}
