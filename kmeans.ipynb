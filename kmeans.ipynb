{
 "cells": [
  {
   "cell_type": "markdown",
   "metadata": {},
   "source": [
    "# K-Means for Clustering "
   ]
  },
  {
   "cell_type": "code",
   "execution_count": null,
   "metadata": {},
   "outputs": [],
   "source": []
  },
  {
   "cell_type": "code",
   "execution_count": 171,
   "metadata": {},
   "outputs": [],
   "source": [
    "import pandas as pd\n",
    "import numpy as np\n",
    "import random\n",
    "from sklearn import datasets\n",
    "from sklearn.cluster import KMeans\n",
    "import numpy as np\n",
    "import matplotlib.pyplot as plt"
   ]
  },
  {
   "cell_type": "markdown",
   "metadata": {},
   "source": [
    "# Given Dataset"
   ]
  },
  {
   "cell_type": "code",
   "execution_count": 172,
   "metadata": {},
   "outputs": [],
   "source": [
    "df=pd.DataFrame()\n",
    "X=[100,90,15,20,85,18]\n",
    "Y=[5,7,96,105,12,110]\n",
    "df['X']=X\n",
    "df['Y']=Y"
   ]
  },
  {
   "cell_type": "markdown",
   "metadata": {},
   "source": [
    "# Euclidean Distance"
   ]
  },
  {
   "cell_type": "markdown",
   "metadata": {},
   "source": [
    "df=pd.DataFrame()\n",
    "X=[100,90,15,20,85,18]\n",
    "Y=[5,7,96,105,12,110]\n",
    "df['X']=X\n",
    "df['Y']=Y "
   ]
  },
  {
   "cell_type": "code",
   "execution_count": 173,
   "metadata": {},
   "outputs": [],
   "source": [
    "def euc(a,b):\n",
    "    a=list(a)\n",
    "    b=list(b)\n",
    "    s=0.0\n",
    "    for i in range(len(a)):\n",
    "        s+=pow(a[i]-b[i],2)\n",
    "    return pow(s,0.5)"
   ]
  },
  {
   "cell_type": "code",
   "execution_count": 174,
   "metadata": {},
   "outputs": [],
   "source": [
    "data=[]\n",
    "for i in range(len(X)):\n",
    "    data.append([X[i],Y[i]])"
   ]
  },
  {
   "cell_type": "code",
   "execution_count": 191,
   "metadata": {},
   "outputs": [],
   "source": [
    "def kmeans(df,k):\n",
    "    if type(df)!=list:\n",
    "        df=list(df.values)\n",
    "    random.shuffle(df)\n",
    "    kmeans=[]\n",
    "    kmeans=random.sample(df,k)\n",
    "    cnt=[0]*k\n",
    "    cost=0\n",
    "    for i in range(len(df)):\n",
    "        dis=99999999999999999999999999\n",
    "        group=0\n",
    "        for j in range(k):\n",
    "            ndis=euc(df[i],kmeans[j])\n",
    "            #print (\"DIS\",ndis,j)\n",
    "            if ndis<dis:\n",
    "                dis=ndis\n",
    "                group=j\n",
    "        #print (\"DIS--\",dis,j,group)\n",
    "        cost+=dis\n",
    "        cnt[group]+=1\n",
    "        for j in range(len(kmeans[0])):\n",
    "            #break\n",
    "            kmeans[group][j]=((kmeans[group][j]*(cnt[group]-1))+df[i][j])/cnt[group]\n",
    "    cost=pow(cost,0.5)\n",
    "    return [k,cost]\n",
    "        \n",
    "        "
   ]
  },
  {
   "cell_type": "markdown",
   "metadata": {},
   "source": [
    "# Get Costs for various k"
   ]
  },
  {
   "cell_type": "code",
   "execution_count": 192,
   "metadata": {},
   "outputs": [],
   "source": [
    " def getcost(df,k1,k2):\n",
    "    k=[]\n",
    "    cost=[]\n",
    "    for i in range(k1,k2):\n",
    "        a,b=kmeans(df,i)\n",
    "        k.append(a)\n",
    "        cost.append(b)\n",
    "    return k,cost\n"
   ]
  },
  {
   "cell_type": "markdown",
   "metadata": {},
   "source": []
  },
  {
   "cell_type": "markdown",
   "metadata": {},
   "source": [
    "# Elbow Method for optimal k"
   ]
  },
  {
   "cell_type": "code",
   "execution_count": 193,
   "metadata": {},
   "outputs": [],
   "source": [
    "\n",
    "def elbow(k,cost):\n",
    "    plt.plot(k,cost)\n",
    "    plt.xlabel('K-number of clusters')\n",
    "    plt.ylabel('Cost')\n",
    "    plt.show()"
   ]
  },
  {
   "cell_type": "markdown",
   "metadata": {},
   "source": [
    "# Test Kmeans on Given Data"
   ]
  },
  {
   "cell_type": "code",
   "execution_count": 194,
   "metadata": {},
   "outputs": [
    {
     "data": {
      "image/png": "[encoded data removed]",
      "text/plain": [
       "<matplotlib.figure.Figure at 0x7fbf2e5fa630>"
      ]
     },
     "metadata": {},
     "output_type": "display_data"
    }
   ],
   "source": [
    "k,cost=getcost(df,1,4)\n",
    "elbow(k,cost)"
   ]
  },
  {
   "cell_type": "markdown",
   "metadata": {},
   "source": [
    "# Test Kmeans on Iris Dataset"
   ]
  },
  {
   "cell_type": "code",
   "execution_count": 195,
   "metadata": {},
   "outputs": [],
   "source": [
    "df = list(datasets.load_iris().data)\n"
   ]
  },
  {
   "cell_type": "code",
   "execution_count": 196,
   "metadata": {},
   "outputs": [
    {
     "data": {
      "image/png": "[encoded data removed]",
      "text/plain": [
       "<matplotlib.figure.Figure at 0x7fbf2e5fa908>"
      ]
     },
     "metadata": {},
     "output_type": "display_data"
    }
   ],
   "source": [
    "k,cost=getcost(df,1,8)\n",
    "elbow(k,cost)"
   ]
  },
  {
   "cell_type": "markdown",
   "metadata": {},
   "source": [
    "# K-Medoid for Clustering"
   ]
  },
  {
   "cell_type": "code",
   "execution_count": 197,
   "metadata": {},
   "outputs": [],
   "source": [
    "df=pd.DataFrame()\n",
    "X=[100,90,15,20,85,18]\n",
    "Y=[5,7,96,105,12,110]\n",
    "Z=[-1]*6"
   ]
  },
  {
   "cell_type": "code",
   "execution_count": 198,
   "metadata": {},
   "outputs": [],
   "source": [
    "df['X']=X\n",
    "df['Y']=Y\n",
    "df['Z']=Z"
   ]
  },
  {
   "cell_type": "code",
   "execution_count": 183,
   "metadata": {},
   "outputs": [],
   "source": [
    "data=[]\n",
    "for i in range(len(X)):\n",
    "    data.append([X[i],Y[i],-1])"
   ]
  },
  {
   "cell_type": "code",
   "execution_count": null,
   "metadata": {},
   "outputs": [],
   "source": []
  },
  {
   "cell_type": "code",
   "execution_count": 184,
   "metadata": {},
   "outputs": [],
   "source": [
    "def k_medoid(k,data):\n",
    "    kmed=random.sample(data,k)\n",
    "    #print(kmed)\n",
    "    for i in range(len(data)):\n",
    "        for j in range(len(kmed)):\n",
    "            if data[i]==kmed[j]:\n",
    "                data[i][-1]=i\n",
    "                kmed[j][-1]=i\n",
    "    cost=0\n",
    "    for i in range(len(data)):\n",
    "        dis=99999999999999999999999\n",
    "        for j in range(len(kmed)):\n",
    "            ndis=0\n",
    "            for x in range(len(kmed[0])-1):\n",
    "                ndis+=abs(data[i][x]-kmed[j][x])\n",
    "            if ndis<dis:\n",
    "                data[i][-1]=kmed[j][-1]\n",
    "                dis=ndis\n",
    "        cost+=data[i][-1]\n",
    "    print (\"Cost on k=\",k,\"is\",cost)"
   ]
  },
  {
   "cell_type": "markdown",
   "metadata": {},
   "source": [
    "# K-Medoid on Given Dataset"
   ]
  },
  {
   "cell_type": "code",
   "execution_count": 200,
   "metadata": {},
   "outputs": [
    {
     "name": "stdout",
     "output_type": "stream",
     "text": [
      "Cost on k= 1 is 6\n",
      "Cost on k= 2 is 20\n",
      "Cost on k= 3 is 8\n",
      "Cost on k= 4 is 14\n"
     ]
    }
   ],
   "source": [
    "for i in range(1,5):\n",
    "    k_medoid(i,data)"
   ]
  },
  {
   "cell_type": "code",
   "execution_count": 186,
   "metadata": {},
   "outputs": [],
   "source": [
    "df = list(datasets.load_iris().data)"
   ]
  },
  {
   "cell_type": "code",
   "execution_count": 187,
   "metadata": {},
   "outputs": [],
   "source": [
    "#PreProcessing\n",
    "for i in range(len(df)):\n",
    "    df[i]=list(df[i])\n",
    "    df[i].append(-1)"
   ]
  },
  {
   "cell_type": "markdown",
   "metadata": {},
   "source": [
    "# K-Medoid on Iris Dataset"
   ]
  },
  {
   "cell_type": "code",
   "execution_count": 188,
   "metadata": {},
   "outputs": [
    {
     "name": "stdout",
     "output_type": "stream",
     "text": [
      "Cost on k= 1 is 16800\n",
      "Cost on k= 2 is 14346\n",
      "Cost on k= 3 is 7548\n",
      "Cost on k= 4 is 15782\n"
     ]
    }
   ],
   "source": [
    "for i in range(1,5):\n",
    "    k_medoid(i,df)"
   ]
  },
  {
   "cell_type": "code",
   "execution_count": null,
   "metadata": {},
   "outputs": [],
   "source": []
  },
  {
   "cell_type": "code",
   "execution_count": null,
   "metadata": {},
   "outputs": [],
   "source": []
  }
 ],
 "metadata": {
  "kernelspec": {
   "display_name": "Python 3",
   "language": "python",
   "name": "python3"
  },
  "language_info": {
   "codemirror_mode": {
    "name": "ipython",
    "version": 3
   },
   "file_extension": ".py",
   "mimetype": "text/x-python",
   "name": "python",
   "nbconvert_exporter": "python",
   "pygments_lexer": "ipython3",
   "version": "3.5.4"
  }
 },
 "nbformat": 4,
 "nbformat_minor": 1
}
